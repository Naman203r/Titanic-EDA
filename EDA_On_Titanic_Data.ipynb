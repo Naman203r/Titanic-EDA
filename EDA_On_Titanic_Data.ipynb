{
  "nbformat": 4,
  "nbformat_minor": 0,
  "metadata": {
    "colab": {
      "private_outputs": true,
      "provenance": [],
      "mount_file_id": "1NRWdLfLnmZPanDGu04sRowHIwHLUkrMO",
      "authorship_tag": "ABX9TyNtCb9Yy9IN8K+nC9EstWCJ",
      "include_colab_link": true
    },
    "kernelspec": {
      "name": "python3",
      "display_name": "Python 3"
    },
    "language_info": {
      "name": "python"
    }
  },
  "cells": [
    {
      "cell_type": "markdown",
      "metadata": {
        "id": "view-in-github",
        "colab_type": "text"
      },
      "source": [
        "<a href=\"https://colab.research.google.com/github/Naman203r/Titanic-EDA/blob/main/EDA_On_Titanic_Data.ipynb\" target=\"_parent\"><img src=\"https://colab.research.google.com/assets/colab-badge.svg\" alt=\"Open In Colab\"/></a>"
      ]
    },
    {
      "cell_type": "code",
      "source": [
        "!git clone https://github.com/Naman203r/Titanic-EDA.git"
      ],
      "metadata": {
        "id": "TveJbf2kqHFr"
      },
      "execution_count": null,
      "outputs": []
    },
    {
      "cell_type": "code",
      "execution_count": null,
      "metadata": {
        "id": "nM8G76Qt1sKD"
      },
      "outputs": [],
      "source": [
        "import numpy as np\n",
        "import pandas as pd\n",
        "import matplotlib.pyplot as plt"
      ]
    },
    {
      "cell_type": "code",
      "source": [
        "df=pd.read_csv(\"/content/Titanic-EDA/Titanic Dataset/train.csv\")\n",
        "df.head()"
      ],
      "metadata": {
        "id": "WzqEjOPA10DN"
      },
      "execution_count": null,
      "outputs": []
    },
    {
      "cell_type": "markdown",
      "source": [
        "# EDA(Exploratory Data Analysis)\n",
        "\n",
        "# Column Types\n",
        "\n",
        "* **Categorical:**Survived,Pclass,Sex,SibSp,Parch,Cabin,  Embarked\n",
        "* **Numerical:**PassengerId,Age,Fare\n",
        "* **Mixed:**Name,Ticket\n"
      ],
      "metadata": {
        "id": "SrIYPxF-04t1"
      }
    },
    {
      "cell_type": "markdown",
      "source": [
        "# Univariant Analysis On Numerical Column"
      ],
      "metadata": {
        "id": "_8zBdctE3vSy"
      }
    },
    {
      "cell_type": "markdown",
      "source": [
        "# Age\n",
        "\n",
        "#**Conclusions**\n",
        "  * Age is normally(almost) distributed\n",
        "  * 20% values are missing.\n",
        "  *  There are some outliers.\n",
        "  * Most of the passengers are between the ages of 20 and 30."
      ],
      "metadata": {
        "id": "YEb_638Y4f-K"
      }
    },
    {
      "cell_type": "code",
      "source": [
        "df['Age'].describe()"
      ],
      "metadata": {
        "id": "bGK25i0j2UNf"
      },
      "execution_count": null,
      "outputs": []
    },
    {
      "cell_type": "code",
      "source": [
        "df['Age'].plot(kind='hist',color='purple')\n",
        "plt.title(\"Distribution of Passenger Ages\",fontsize=16,fontweight='bold')\n",
        "plt.xlabel(\"Age\",fontsize=12)\n",
        "plt.ylabel(\"Number of Passengers\",fontsize=12)\n",
        "plt.grid(axis='y',linestyle='--',alpha=0.6)\n",
        "plt.legend()\n",
        "plt.show()"
      ],
      "metadata": {
        "id": "lQd1jW6g4Elm"
      },
      "execution_count": null,
      "outputs": []
    },
    {
      "cell_type": "code",
      "source": [
        "df['Age'].plot(kind='kde')\n",
        "plt.title(\"Age Distribution (KDE Plot)\",fontsize=16,fontweight='bold')\n",
        "plt.xlabel(\"Age\",fontsize=12)\n",
        "plt.ylabel(\"Density\",fontsize=12)\n",
        "plt.grid(linestyle='--',alpha=0.6)\n",
        "plt.legend()\n",
        "plt.show()\n"
      ],
      "metadata": {
        "id": "N10UYXbJ50iL"
      },
      "execution_count": null,
      "outputs": []
    },
    {
      "cell_type": "code",
      "source": [
        "df['Age'].skew()"
      ],
      "metadata": {
        "id": "mdjp5ayK6jHf"
      },
      "execution_count": null,
      "outputs": []
    },
    {
      "cell_type": "code",
      "source": [
        "df['Age'].plot(kind='box',patch_artist=True)\n"
      ],
      "metadata": {
        "id": "a-FWZluy7bXI"
      },
      "execution_count": null,
      "outputs": []
    },
    {
      "cell_type": "code",
      "source": [
        "# Detect Outlier Using IQR.\n",
        "Q1=df['Age'].quantile(0.25)\n",
        "Q3=df['Age'].quantile(0.75)\n",
        "IQR=Q3-Q1\n",
        "upper_limit=Q3+1.5*IQR\n",
        "lower_limit=Q1-1.5*IQR\n",
        "print(upper_limit)\n",
        "print(lower_limit)"
      ],
      "metadata": {
        "id": "Edau0BvRLZvy"
      },
      "execution_count": null,
      "outputs": []
    },
    {
      "cell_type": "code",
      "source": [
        "df[(df['Age']>upper_limit) | (df['Age']<lower_limit)]"
      ],
      "metadata": {
        "id": "9bYqLvuELuoC"
      },
      "execution_count": null,
      "outputs": []
    },
    {
      "cell_type": "code",
      "source": [
        "((df['Age'].isnull().sum())/(df.shape[0]))*100"
      ],
      "metadata": {
        "id": "9MasTtKVKEV0"
      },
      "execution_count": null,
      "outputs": []
    },
    {
      "cell_type": "markdown",
      "source": [
        "# Fare\n",
        "#**conclusion**\n",
        "* Data is highley(Positively) skewed.\n",
        "* Fare column contain Group Fare not a individual Fare(This might be and issue)\n",
        "* we need to create new column called individual fare during feature engineering."
      ],
      "metadata": {
        "id": "Xk86PxxC9Hdr"
      }
    },
    {
      "cell_type": "code",
      "source": [
        "df['Fare'].describe()"
      ],
      "metadata": {
        "id": "TSCmoKLk7kpl"
      },
      "execution_count": null,
      "outputs": []
    },
    {
      "cell_type": "code",
      "source": [
        "df['Fare'].plot(kind='hist',color='red')\n",
        "plt.title(\"Distribution of Passenger Fare\",fontsize=16,fontweight='bold')\n",
        "plt.xlabel(\"Fare\",fontsize=12)\n",
        "plt.ylabel(\"Number of Passengers\",fontsize=12)\n",
        "plt.grid(axis='y',linestyle='--',alpha=0.6)\n",
        "plt.legend()\n",
        "plt.show()"
      ],
      "metadata": {
        "id": "QnGyMmyc7krs"
      },
      "execution_count": null,
      "outputs": []
    },
    {
      "cell_type": "code",
      "source": [
        "df['Fare'].plot(kind='kde')\n",
        "plt.title(\"Fare Distribution (KDE Plot)\",fontsize=16,fontweight='bold')\n",
        "plt.xlabel(\"Fare\",fontsize=12)\n",
        "plt.ylabel(\"Density\",fontsize=12)\n",
        "plt.grid(linestyle='--',alpha=0.6)\n",
        "plt.legend()\n",
        "plt.show()\n"
      ],
      "metadata": {
        "id": "Uow-V0pO7kt7"
      },
      "execution_count": null,
      "outputs": []
    },
    {
      "cell_type": "code",
      "source": [
        "df['Fare'].skew()"
      ],
      "metadata": {
        "id": "rBUQ0DfV7kv7"
      },
      "execution_count": null,
      "outputs": []
    },
    {
      "cell_type": "code",
      "source": [
        "df['Fare'].plot(kind='box',patch_artist='True')"
      ],
      "metadata": {
        "id": "kLZ1sd5R7ky7"
      },
      "execution_count": null,
      "outputs": []
    },
    {
      "cell_type": "code",
      "source": [
        "percentile_25=df['Fare'].quantile(0.25)\n",
        "percentile_75=df['Fare'].quantile(0.75)\n",
        "IQR=percentile_75-percentile_25\n",
        "upper_limit=percentile_75+1.5*IQR\n",
        "lower_limit=percentile_25-1.5*IQR\n",
        "print(upper_limit)\n",
        "print(lower_limit)"
      ],
      "metadata": {
        "id": "EZhmUytu-_BQ"
      },
      "execution_count": null,
      "outputs": []
    },
    {
      "cell_type": "code",
      "source": [
        "pd.set_option('display.max_rows',None)\n",
        "df[(df['Fare']>upper_limit) | (df['Fare']<lower_limit)].head()"
      ],
      "metadata": {
        "id": "ebNp5h6latOx"
      },
      "execution_count": null,
      "outputs": []
    },
    {
      "cell_type": "code",
      "source": [
        "((df['Fare'].isnull().sum())/(df['Fare'].shape[0]))*100"
      ],
      "metadata": {
        "id": "MUPf2S_s_Zcb"
      },
      "execution_count": null,
      "outputs": []
    },
    {
      "cell_type": "markdown",
      "source": [
        "# Univariant analysis on Categorical Column"
      ],
      "metadata": {
        "id": "0nMOXzmWCtVF"
      }
    },
    {
      "cell_type": "markdown",
      "source": [
        "# Survived\n",
        "#**Conclusions**\n",
        "* most of the people died(above 60%) as campared to survived people.\n",
        "* there is no null values in Survived Column.\n",
        "\n"
      ],
      "metadata": {
        "id": "XnhAETPWDZZi"
      }
    },
    {
      "cell_type": "code",
      "source": [
        "df['Survived'].value_counts()"
      ],
      "metadata": {
        "id": "XyUtq_FtEAAL"
      },
      "execution_count": null,
      "outputs": []
    },
    {
      "cell_type": "code",
      "source": [
        "plt.figure(figsize=(9,5))\n",
        "Survived_Passengers=df['Survived'].value_counts()\n",
        "plt.bar(Survived_Passengers.index,Survived_Passengers.values,color=['purple','pink'],edgecolor='black',label=['Not Survived(0)','Survived(1)'])\n",
        "plt.title('Passenger Count by Survival',fontsize=15,fontweight='bold')\n",
        "plt.xlabel(\"Survived\",fontsize=12)\n",
        "plt.ylabel(\"Number of Passengers\",fontsize=12)\n",
        "for index,values in zip(Survived_Passengers.index,Survived_Passengers.values):\n",
        "  plt.text(index,values+4,str(values))\n",
        "plt.legend(loc=1,title='Survived')\n",
        "plt.xticks([0,1], ['0','1'])\n",
        "plt.annotate(\"Most Passengers were not survived\",xy=(0.1,549),xytext=(0.5,400),arrowprops={'color':'black'},fontsize=11,fontweight='bold')\n",
        "plt.show()"
      ],
      "metadata": {
        "id": "GarBGijZEMof"
      },
      "execution_count": null,
      "outputs": []
    },
    {
      "cell_type": "code",
      "source": [
        "df['Survived'].value_counts().plot(kind='pie',autopct='%1.2f%%',colors=['purple','pink'])\n",
        "plt.title(\"Number of Passengers by Pclass (in %)\",fontsize=15,fontweight='bold')\n",
        "plt.legend(title='Survived',loc=1,labels=['Not Survived(0)','Survived(1)'])\n",
        "plt.ylabel(\"\")\n",
        "plt.show()"
      ],
      "metadata": {
        "id": "oLJ2q-bqE4Pv"
      },
      "execution_count": null,
      "outputs": []
    },
    {
      "cell_type": "code",
      "source": [
        "df['Survived'].isnull().sum()"
      ],
      "metadata": {
        "id": "bsL_DY5eFG-p"
      },
      "execution_count": null,
      "outputs": []
    },
    {
      "cell_type": "markdown",
      "source": [
        "#Pclass\n",
        "#**Conclusion**\n",
        "* maximum number of passengers(above 55%) were traveled in Pclass 3.but it is surprising that more passengers traveled in Pclass 1(24.24%) compared to Pclass 2(20.65%)."
      ],
      "metadata": {
        "id": "TDJJZyVrH-pZ"
      }
    },
    {
      "cell_type": "code",
      "source": [
        "# Passengers count by Pclass\n",
        "df['Pclass'].value_counts()"
      ],
      "metadata": {
        "id": "q9S9SrNYIdaG"
      },
      "execution_count": null,
      "outputs": []
    },
    {
      "cell_type": "code",
      "source": [
        "#plotting\n",
        "plt.figure(figsize=(13,7))\n",
        "Pclasswise_passengers=df['Pclass'].value_counts()\n",
        "plt.bar(Pclasswise_passengers.index,Pclasswise_passengers.values,label=['P3','P1','P2'],color=['brown','purple','lightblue'])\n",
        "plt.title('Passenger Count by Passenger Class (Pclass)',fontsize=15,fontweight='bold')\n",
        "plt.xlabel(\"Pclass\",fontsize=12)\n",
        "plt.ylabel(\"Number of Passengers\",fontsize=12)\n",
        "for index,values in zip(Pclasswise_passengers.index,Pclasswise_passengers.values):\n",
        "  plt.text(index,values+4,str(values))\n",
        "plt.annotate(\"most Titanic passengers were in 3rd class (Pclass 3)\",xy=(3,491),xytext=(1,400),arrowprops={'color':'black'},fontsize=11,fontweight='bold')\n",
        "plt.xticks([1,2,3],['1','2','3'])\n",
        "plt.legend(title=\"Pclass\",loc=2)\n",
        "plt.show()\n"
      ],
      "metadata": {
        "id": "5jr8JU3FJVTr"
      },
      "execution_count": null,
      "outputs": []
    },
    {
      "cell_type": "code",
      "source": [
        "df['Pclass'].value_counts().plot(kind='pie',autopct='%1.2f%%',colors=['brown','purple','lightblue'],explode=[0.1,0,0])\n",
        "plt.title(\"Number of Passengers by Pclass (in %)\",fontsize=15,fontweight='bold')\n",
        "plt.legend(title='Pclass',loc=1,labels=['P3 Class(3)','P1 Class(1)','P2 Class(2)'])\n",
        "plt.ylabel(\"\")\n",
        "plt.show()"
      ],
      "metadata": {
        "id": "1OQpVH3rJz59"
      },
      "execution_count": null,
      "outputs": []
    },
    {
      "cell_type": "code",
      "source": [
        "df['Pclass'].isnull().sum()"
      ],
      "metadata": {
        "id": "rktv8TQKKmXL"
      },
      "execution_count": null,
      "outputs": []
    },
    {
      "cell_type": "markdown",
      "source": [
        "# Sex\n",
        "#**Conclusion**\n",
        "- Most of the passengers were male (above 64%), compared to female passengers (~36%).\n",
        "- The column does not contain any null values."
      ],
      "metadata": {
        "id": "5Y4-PAdF3uBu"
      }
    },
    {
      "cell_type": "code",
      "source": [
        "df['Sex'].value_counts()"
      ],
      "metadata": {
        "id": "-8qm6f8y33M8"
      },
      "execution_count": null,
      "outputs": []
    },
    {
      "cell_type": "code",
      "source": [
        "plt.figure(figsize=(9.4,5))\n",
        "GenderWise_Passengers=df['Sex'].value_counts()\n",
        "plt.bar(GenderWise_Passengers.index,GenderWise_Passengers.values,color=['yellow','green'],edgecolor='black',label=['Male','Female'])\n",
        "\n",
        "plt.title('Passenger Count by Gender',fontsize=15,fontweight='bold')\n",
        "plt.xlabel(\"Gender\",fontsize=12)\n",
        "plt.ylabel(\"Number of Passengers\",fontsize=12)\n",
        "\n",
        "for index,value in zip(GenderWise_Passengers.index,GenderWise_Passengers.values):\n",
        "  plt.text(index,value+4,str(value))\n",
        "plt.annotate(\"Most Male Passengers were travelled\",xy=(0.1,580),xytext=(0.5,450),arrowprops={'color':'black'},fontsize=11,fontweight='bold')\n",
        "plt.legend(loc=1,title='Gender')\n",
        "plt.xticks([0,1],['Male','Female'])\n",
        "\n",
        "plt.show()\n"
      ],
      "metadata": {
        "id": "jhX9G53C4mOv"
      },
      "execution_count": null,
      "outputs": []
    },
    {
      "cell_type": "code",
      "source": [
        "df['Sex'].value_counts().plot(kind='pie',autopct='%1.2f%%',colors=['yellow','green'])\n",
        "plt.title(\"Number of Passengers by Gender (in %)\",fontsize=15,fontweight='bold')\n",
        "plt.ylabel(\"\")\n",
        "plt.show()"
      ],
      "metadata": {
        "id": "ScqpfxKH96xu"
      },
      "execution_count": null,
      "outputs": []
    },
    {
      "cell_type": "code",
      "source": [
        "df['Sex'].isnull().sum()"
      ],
      "metadata": {
        "id": "OKiEnehhA1Mj"
      },
      "execution_count": null,
      "outputs": []
    },
    {
      "cell_type": "markdown",
      "source": [
        "#Embarked\n",
        "#**Conclusion**\n",
        "- The maximum number of passengers(644) boarded from Southampton (S).\n",
        "- The column contains only 0.22% missing values (very few, can be imputed)."
      ],
      "metadata": {
        "id": "efuJ-k9PBjCe"
      }
    },
    {
      "cell_type": "code",
      "source": [
        "df['Embarked'].value_counts()"
      ],
      "metadata": {
        "id": "oef-ZBu4BiP_"
      },
      "execution_count": null,
      "outputs": []
    },
    {
      "cell_type": "code",
      "source": [
        "plt.figure(figsize=(9.4,5))\n",
        "Embarkedwise_Passengers=df['Embarked'].value_counts()\n",
        "plt.bar(Embarkedwise_Passengers.index,Embarkedwise_Passengers.values,color=['red','blue','green'],label=['Southampton(S)','Cherbourg(C)','Queenstown(Q)'])\n",
        "plt.title('Passenger Count by Embarked',fontsize=16,fontweight='bold')\n",
        "plt.xlabel(\"Embarked\",fontsize=12)\n",
        "plt.ylabel(\"Number of Passengers\",fontsize=12)\n",
        "for index,value in zip(Embarkedwise_Passengers.index,Embarkedwise_Passengers.values):\n",
        "  plt.text(index,value+4,str(value))\n",
        "plt.annotate(\"Most Of the Passengers boarded from Southampton\",xy=(0.1,644),xytext=(0.5,480),arrowprops={'color':'black'},fontsize=11,fontweight='bold')\n",
        "plt.legend(loc=1,title='Port of Embarkation')\n",
        "plt.show()"
      ],
      "metadata": {
        "id": "3iDQIBNJCKEh"
      },
      "execution_count": null,
      "outputs": []
    },
    {
      "cell_type": "code",
      "source": [
        "df['Embarked'].value_counts().plot(kind='pie',autopct='%1.2f%%',colors=['red','blue','green'])\n",
        "plt.title(\"Number of Passengers by Embarked (in %)\",fontsize=16,fontweight='bold')\n",
        "plt.legend(labels=['Southampton (S)', 'Cherbourg (C)', 'Queenstown (Q)'],title=\"Port of Embarkation\")\n",
        "plt.ylabel(\"\")\n",
        "plt.show()"
      ],
      "metadata": {
        "id": "mKlZw5VQHQq3"
      },
      "execution_count": null,
      "outputs": []
    },
    {
      "cell_type": "code",
      "source": [
        "((df['Embarked'].isnull().sum())/(df.shape[0]))*100"
      ],
      "metadata": {
        "id": "lbuGeW8tJ4Sl"
      },
      "execution_count": null,
      "outputs": []
    },
    {
      "cell_type": "markdown",
      "source": [
        "# Bivariant Analysis\n"
      ],
      "metadata": {
        "id": "-aUXD7UeSTUo"
      }
    },
    {
      "cell_type": "markdown",
      "source": [
        "#Survive->Pclass\n",
        "#**Conclusion**\n",
        "* In case of Death,Pclass 1 were less risky as compared to Pclass 2 as well as Pclass 3."
      ],
      "metadata": {
        "id": "9phxG2B3ScAQ"
      }
    },
    {
      "cell_type": "code",
      "source": [
        "df.head()"
      ],
      "metadata": {
        "id": "_jOCVZ2SSGQu"
      },
      "execution_count": null,
      "outputs": []
    },
    {
      "cell_type": "code",
      "source": [
        "survival_pct_by_pclass=pd.crosstab(df['Survived'],df['Pclass'],normalize='columns')*100\n",
        "survival_pct_by_pclass"
      ],
      "metadata": {
        "id": "u08L2BAjSR_4"
      },
      "execution_count": null,
      "outputs": []
    },
    {
      "cell_type": "code",
      "source": [
        "plt.imshow(pd.crosstab(df['Survived'],df['Pclass'],normalize='columns')*100,cmap='YlGnBu')\n",
        "plt.colorbar()\n",
        "plt.xticks([0,1,2],['P1','P2','P3'])\n",
        "plt.yticks([0,1],['Not Survived','Survived'])\n",
        "for i in [0,1]:\n",
        "  for j in [0,1,2]:\n",
        "    plt.text(j-0.3,i,f\"{survival_pct_by_pclass.iloc[i,j]:.2f}%\")\n",
        "plt.show()"
      ],
      "metadata": {
        "id": "bCRKOg9BTUQY"
      },
      "execution_count": null,
      "outputs": []
    },
    {
      "cell_type": "markdown",
      "source": [
        "#Survived->Sex\n",
        "#**Conclusion**\n",
        "* In both 2nd and 3rd class, the death rate was higher among males than females.\n"
      ],
      "metadata": {
        "id": "xPTT6PGzXmUR"
      }
    },
    {
      "cell_type": "code",
      "source": [
        "survival_pct_by_sex=pd.crosstab(df['Survived'],df['Sex'],normalize='columns')*100\n",
        "survival_pct_by_sex"
      ],
      "metadata": {
        "id": "2K2CN8uVYto7"
      },
      "execution_count": null,
      "outputs": []
    },
    {
      "cell_type": "code",
      "source": [
        "plt.imshow(pd.crosstab(df['Survived'],df['Sex'],normalize='columns')*100,cmap='YlOrRd')\n",
        "plt.colorbar()\n",
        "plt.xticks([0,1],['Female','Male'])\n",
        "plt.yticks([0,1],['Not Survived','Survived'])\n",
        "for i in [0,1]:\n",
        "  for j in [0,1]:\n",
        "    plt.text(i-0.2,j,f\"{survival_pct_by_sex.iloc[j,i]:.2f}%\")\n",
        "plt.show()"
      ],
      "metadata": {
        "id": "POPAzlukZb6V"
      },
      "execution_count": null,
      "outputs": []
    },
    {
      "cell_type": "markdown",
      "source": [
        "#Survival->Embarked\n",
        "#**conclusion**\n",
        "* Most of the passengers who boarded from Southampton (S) and Queenstown (Q)    did not survive, compared to those from Cherbourg (C), where survival rates were higher."
      ],
      "metadata": {
        "id": "uAWvXkXdiCF1"
      }
    },
    {
      "cell_type": "code",
      "source": [
        "pd.crosstab(df['Survived'],df['Embarked'],normalize='columns')*100\n"
      ],
      "metadata": {
        "id": "VSIpbz3_awfp"
      },
      "execution_count": null,
      "outputs": []
    },
    {
      "cell_type": "code",
      "source": [
        "ct=pd.crosstab(df['Survived'],df['Embarked'],normalize='columns')*100\n",
        "ax=ct.plot(kind='bar',stacked=True,cmap='tab10')\n",
        "\n",
        "for container in ax.containers:\n",
        "    ax.bar_label(container,fmt='%.1f%%',label_type='center',color='black',fontsize=10)"
      ],
      "metadata": {
        "id": "vIIZnrryWT0W"
      },
      "execution_count": null,
      "outputs": []
    },
    {
      "cell_type": "markdown",
      "source": [
        "#Embarked->Sex\n",
        "#**Conclusion**\n",
        "* Among passengers who boarded at Southampton (S), most of the males (over 68%) did not survive.\n",
        "* Similarly, among those who boarded at Cherbourg (C), most of the males (over 56%) did not survive.\n",
        "* In comparison, Queenstown (Q) had relatively fewer male passengers, but still, the survival chance for males remained very low."
      ],
      "metadata": {
        "id": "7TJwSysOSC0R"
      }
    },
    {
      "cell_type": "code",
      "source": [
        "pd.crosstab(df['Sex'],df['Embarked'],normalize='columns')*100"
      ],
      "metadata": {
        "id": "QdfAv6q2kn-E"
      },
      "execution_count": null,
      "outputs": []
    },
    {
      "cell_type": "code",
      "source": [
        "ct=pd.crosstab(df['Sex'],df['Embarked'],normalize='columns')*100\n",
        "ax=ct.plot(kind='bar',stacked=True,colormap='Set2')\n",
        "for container in ax.containers:\n",
        "  ax.bar_label(container,fmt='%1.2f%%',label_type='center')"
      ],
      "metadata": {
        "id": "COYoio9-WcXb"
      },
      "execution_count": null,
      "outputs": []
    },
    {
      "cell_type": "markdown",
      "source": [
        "#Pclass->Embarked\n",
        "#**conclusion**\n",
        "* In 1st Class (Pclass 1): Most of the male passengers(above 52%) from Cherbourg did not survive compared to other ports.\n",
        "* In 2nd Class (Pclass 2): Most of the male passengers(above 26%) from Southampton did not survive compared to other ports.\n",
        "* In 3rd Class (Pclass 3): A higher proportion(above 91%) of female passengers from Queenstown survived compared to other ports."
      ],
      "metadata": {
        "id": "JwCE1XpyFQSF"
      }
    },
    {
      "cell_type": "code",
      "source": [
        "pd.crosstab(df['Pclass'],df['Embarked'],normalize=\"columns\")*100"
      ],
      "metadata": {
        "id": "JakNqn3rV05-"
      },
      "execution_count": null,
      "outputs": []
    },
    {
      "cell_type": "code",
      "source": [
        "ct=pd.crosstab(df['Pclass'],df['Embarked'],normalize='columns')*100\n",
        "ax=ct.plot(kind='bar',stacked=True,cmap='Set2')\n",
        "for container in ax.containers:\n",
        "  ax.bar_label(container,fmt='%1.2f%%',label_type='center')"
      ],
      "metadata": {
        "id": "Ym1TwrEFWG7r"
      },
      "execution_count": null,
      "outputs": []
    },
    {
      "cell_type": "markdown",
      "source": [
        "#Survived->Age\n",
        "#**Conclusion**\n",
        "* Most of the passengers aged around 0–5(children age) years had a higher survival rate as compared to other age."
      ],
      "metadata": {
        "id": "NKYQDKF3g6ek"
      }
    },
    {
      "cell_type": "code",
      "source": [
        "df[df['Survived'] == 1]['Age'].plot(kind='kde',label='Survived')\n",
        "df[df['Survived'] == 0]['Age'].plot(kind='kde',label='Not Survived')\n",
        "\n",
        "plt.legend()\n",
        "plt.grid(True, linestyle=\"--\", alpha=0.6)\n",
        "plt.show()"
      ],
      "metadata": {
        "id": "cvyASbfRduJQ"
      },
      "execution_count": null,
      "outputs": []
    },
    {
      "cell_type": "markdown",
      "source": [
        "# Feature Engineering"
      ],
      "metadata": {
        "id": "lhlm5rmfl8C6"
      }
    },
    {
      "cell_type": "markdown",
      "source": [
        "#Fare Column\n",
        "#**Conclusion**\n",
        "* I created a new column called Individual_Fare by dividing the total Fare by the total number of people (SibSp + Parch + 1).\n",
        "This helps to find how much fare each person paid individually, which can be more accurate for analysis and modeling."
      ],
      "metadata": {
        "id": "cKeawR1Fl_Nv"
      }
    },
    {
      "cell_type": "code",
      "source": [
        "df1=pd.read_csv(\"/content/Titanic-EDA/Titanic Dataset/test.csv\")\n",
        "df1"
      ],
      "metadata": {
        "id": "RyaqSlzymPMM"
      },
      "execution_count": null,
      "outputs": []
    },
    {
      "cell_type": "code",
      "source": [
        "df=pd.concat([df,df1])\n",
        "df"
      ],
      "metadata": {
        "id": "6Zd-5udRU1n4"
      },
      "execution_count": null,
      "outputs": []
    },
    {
      "cell_type": "code",
      "source": [
        "df.shape"
      ],
      "metadata": {
        "id": "dbJegpIOgqaT"
      },
      "execution_count": null,
      "outputs": []
    },
    {
      "cell_type": "code",
      "source": [
        "df[df['Ticket'] == 'CA 2144']"
      ],
      "metadata": {
        "id": "k04OHQMWXoAk"
      },
      "execution_count": null,
      "outputs": []
    },
    {
      "cell_type": "code",
      "source": [
        "df['individual_fare'] = df['Fare']/(df['SibSp'] + df['Parch'] + 1)\n",
        "df.head(50)"
      ],
      "metadata": {
        "id": "y0iuzL1KXt2_"
      },
      "execution_count": null,
      "outputs": []
    },
    {
      "cell_type": "markdown",
      "source": [
        "#Univariant Analysis On Individual Fare.\n",
        "#**Conclusion**\n",
        "* Distribution of Individual Fare is highly right-skewed.\n",
        "* Almost 75% passengers paid less than 50.\n",
        "* There is 1 passenger with missing fare value (NaN) which needs to be handled during data cleaning.\n",
        "* According to the IQR method, fares above 50 appear as outliers, but in the Titanic domain these are genuine fares of wealthy passengers."
      ],
      "metadata": {
        "id": "NSqJIqS3mrZM"
      }
    },
    {
      "cell_type": "code",
      "source": [
        "df[['individual_fare','Fare']].describe()"
      ],
      "metadata": {
        "id": "NuWRIYdggCWK"
      },
      "execution_count": null,
      "outputs": []
    },
    {
      "cell_type": "code",
      "source": [
        "df['individual_fare'].plot(kind=\"hist\",color=\"grey\")\n",
        "plt.title(\"Distribution of Passenger Individual Fare\",fontsize=16,fontweight='bold')\n",
        "plt.xlabel(\"Individual Fare\",fontsize=12)\n",
        "plt.ylabel(\"Number of Passengers\",fontsize=12)\n",
        "plt.grid(axis='y',linestyle='--',alpha=0.6)\n",
        "plt.legend()\n",
        "plt.show()"
      ],
      "metadata": {
        "id": "wfEZfi3EiFNx"
      },
      "execution_count": null,
      "outputs": []
    },
    {
      "cell_type": "code",
      "source": [
        "df['individual_fare'].plot(kind=\"kde\")\n",
        "plt.title(\"Individual Fare Distribution (KDE Plot)\",fontsize=16,fontweight='bold')\n",
        "plt.xlabel(\"Individual Fare\",fontsize=12)\n",
        "plt.ylabel(\"Density\",fontsize=12)\n",
        "plt.grid(axis=\"x\",linestyle='--',alpha=0.6)\n",
        "plt.legend()\n",
        "plt.show()"
      ],
      "metadata": {
        "id": "-4iZN_Qslt8V"
      },
      "execution_count": null,
      "outputs": []
    },
    {
      "cell_type": "code",
      "source": [
        "df['individual_fare'].skew()"
      ],
      "metadata": {
        "id": "dJRJXPC7oWaM"
      },
      "execution_count": null,
      "outputs": []
    },
    {
      "cell_type": "code",
      "source": [
        "df['individual_fare'].plot(kind='box')"
      ],
      "metadata": {
        "id": "CxaVMmFoYFd5"
      },
      "execution_count": null,
      "outputs": []
    },
    {
      "cell_type": "code",
      "source": [
        "percentile_25=df['individual_fare'].quantile(0.25)\n",
        "percentile_75=df['individual_fare'].quantile(0.75)\n",
        "IQR=percentile_75-percentile_25\n",
        "upper_limit=percentile_75+1.5*IQR\n",
        "lower_limit=percentile_25-1.5*IQR\n",
        "print(upper_limit)\n",
        "print(lower_limit)"
      ],
      "metadata": {
        "id": "hWL5w5A4uAut"
      },
      "execution_count": null,
      "outputs": []
    },
    {
      "cell_type": "code",
      "source": [
        "df[(df['individual_fare']>upper_limit) | (df['individual_fare']<lower_limit)]"
      ],
      "metadata": {
        "id": "C4AS1Sn9v9u8"
      },
      "execution_count": null,
      "outputs": []
    },
    {
      "cell_type": "code",
      "source": [
        "df['individual_fare'].isnull().sum()"
      ],
      "metadata": {
        "id": "XwxF13rXoewo"
      },
      "execution_count": null,
      "outputs": []
    },
    {
      "cell_type": "markdown",
      "source": [
        "# Feature engineering.\n"
      ],
      "metadata": {
        "id": "vytSNWKe2iO6"
      }
    },
    {
      "cell_type": "markdown",
      "source": [
        "# Sibsp and Parch\n",
        "#**Conclusion**\n",
        "* I made an extra column called Family Size with the help of the SibSp and Parch columns.\n",
        "  I did this to identify which passengers were travelling alone or maybe with their family.\n",
        " This information helps us develop the model."
      ],
      "metadata": {
        "id": "EvOFP7vvj20U"
      }
    },
    {
      "cell_type": "code",
      "source": [
        "df['family_size'] = df['SibSp'] + df['Parch'] + 1"
      ],
      "metadata": {
        "id": "raoJnzkSjtQv"
      },
      "execution_count": null,
      "outputs": []
    },
    {
      "cell_type": "code",
      "source": [
        "# family_type\n",
        "def transform_family_size(num):\n",
        "  if num == 1:\n",
        "    return 'alone'\n",
        "  elif num>1 and num <5:\n",
        "    return \"small\"\n",
        "  else:\n",
        "    return \"large\"\n",
        "df['family_type'] = df['family_size'].apply(transform_family_size)"
      ],
      "metadata": {
        "id": "bwfDXihskBlD"
      },
      "execution_count": null,
      "outputs": []
    },
    {
      "cell_type": "code",
      "source": [
        "df"
      ],
      "metadata": {
        "id": "iO5imR7nnaxg"
      },
      "execution_count": null,
      "outputs": []
    },
    {
      "cell_type": "markdown",
      "source": [
        "#Bivariant Analysis on survived vs family_type.\n",
        "#**Conclusion**\n",
        "* Most passengers from large families (>83%) did not survive, suggesting family size impacted survival chances."
      ],
      "metadata": {
        "id": "NHO7OmY84Sic"
      }
    },
    {
      "cell_type": "code",
      "source": [
        "ct=pd.crosstab(df['Survived'],df['family_type'],normalize=\"columns\")*100"
      ],
      "metadata": {
        "id": "_T4yL5MF4RFy"
      },
      "execution_count": null,
      "outputs": []
    },
    {
      "cell_type": "code",
      "source": [
        "#plotting\n",
        "ax=ct.plot(kind='bar',stacked=True,cmap='cividis')\n",
        "for container in ax.containers:\n",
        "  ax.bar_label(container,fmt='%1.2f%%',label_type='center',color='white',fontweight='bold')"
      ],
      "metadata": {
        "id": "8NZukqbgpuwn"
      },
      "execution_count": null,
      "outputs": []
    },
    {
      "cell_type": "markdown",
      "source": [
        "# Feature Engineering.\n"
      ],
      "metadata": {
        "id": "_5zuAyTa9s0P"
      }
    },
    {
      "cell_type": "markdown",
      "source": [
        "#Cabin.\n",
        "#**Conclusion**\n",
        "* First, I replaced the null values in the Cabin column with \"Unknown\". then, I created a new column called FloorType from Cabin to identify which passengers were traveling on which floor. This information helps in developing the model."
      ],
      "metadata": {
        "id": "XJ5is9PY-AQJ"
      }
    },
    {
      "cell_type": "code",
      "source": [
        "((df['Cabin'].isnull().sum())/(df.shape[0]))*100"
      ],
      "metadata": {
        "id": "K2Y_ri22BcZF"
      },
      "execution_count": null,
      "outputs": []
    },
    {
      "cell_type": "code",
      "source": [
        "df['Cabin']=df['Cabin'].fillna('Unknown')"
      ],
      "metadata": {
        "id": "cQ9klQeABu3k"
      },
      "execution_count": null,
      "outputs": []
    },
    {
      "cell_type": "code",
      "source": [
        "df['Floor type'] = df['Cabin'].str.get(0)\n",
        "df"
      ],
      "metadata": {
        "id": "GbhIsz3koKnF"
      },
      "execution_count": null,
      "outputs": []
    },
    {
      "cell_type": "markdown",
      "source": [
        "# Bivariant Analysis on Survived vs floor type.\n",
        "#**Conclusion**\n",
        "* Passengers on known floors(A,B,C,D,E,F,G,T) had slightly higher survival rates.\n",
        "* Most passengers (~70%) had \"Unknown\" floor type(U), so survival is less clear for them.\n",
        "* FloorType can still be a useful feature for modeling."
      ],
      "metadata": {
        "id": "-3xvrHmFFCne"
      }
    },
    {
      "cell_type": "code",
      "source": [
        "ct=pd.crosstab(df['Survived'],df['Floor type'],normalize='columns')*100\n",
        "ct"
      ],
      "metadata": {
        "id": "woG68nbuFTIo"
      },
      "execution_count": null,
      "outputs": []
    },
    {
      "cell_type": "code",
      "source": [
        "#plotting\n",
        "plt.figure(figsize=(17,8))\n",
        "ax=ct.plot(kind='bar',stacked=True,cmap='cividis')\n",
        "for container in ax.containers:\n",
        "  ax.bar_label(container,fmt='%1.2f%%',label_type='center',color='white',fontweight='bold')"
      ],
      "metadata": {
        "id": "0jdKwNXtFpUM"
      },
      "execution_count": null,
      "outputs": []
    },
    {
      "cell_type": "markdown",
      "source": [
        "# Feature engineering."
      ],
      "metadata": {
        "id": "aCxl1we_KMyS"
      }
    },
    {
      "cell_type": "markdown",
      "source": [
        "# Age.\n",
        "#**Conclusion**\n",
        "* first, I replaced the null values in the Age column with the median of the column.\n",
        "* Then, I created a new column called Age_type to categorize passengers as Child, Adult, Infant, or Senior. This helps analyze survival patterns across age groups and can be useful for model development."
      ],
      "metadata": {
        "id": "wks_LWyBKNLf"
      }
    },
    {
      "cell_type": "code",
      "source": [
        "((df['Age'].isnull().sum())/(df.shape[0]))*100"
      ],
      "metadata": {
        "id": "744xMGZWKNcx"
      },
      "execution_count": null,
      "outputs": []
    },
    {
      "cell_type": "code",
      "source": [
        "df['Age'].describe()"
      ],
      "metadata": {
        "id": "u_Lfw5IjKtyH"
      },
      "execution_count": null,
      "outputs": []
    },
    {
      "cell_type": "code",
      "source": [
        "df['Age']=df['Age'].fillna(df['Age'].median())"
      ],
      "metadata": {
        "id": "Vd-DpmzTK47C"
      },
      "execution_count": null,
      "outputs": []
    },
    {
      "cell_type": "code",
      "source": [
        "df['Age'].describe()"
      ],
      "metadata": {
        "id": "xwWbdaeILQb-"
      },
      "execution_count": null,
      "outputs": []
    },
    {
      "cell_type": "code",
      "source": [
        "def transform_age(num):\n",
        "  if num>=0 and num<=2:\n",
        "    return \"Infant\"\n",
        "  elif num>2 and num<=12:\n",
        "    return \"Child\"\n",
        "  elif num>12 and num<=59:\n",
        "    return \"Adult\"\n",
        "  else:\n",
        "    return \"Senior\"\n",
        "df['Age_type']=df['Age'].apply(transform_age)"
      ],
      "metadata": {
        "id": "pNkysAqpLZnY"
      },
      "execution_count": null,
      "outputs": []
    },
    {
      "cell_type": "markdown",
      "source": [
        "#Bivariant Analysis on Survived vs Age_type.\n",
        "#**Conclusion**\n",
        "* Most Senior passengers (above 73%) did not survive compared to other age groups.\n",
        "* This indicates that age has a significant impact on survival, with younger passengers having higher survival rates."
      ],
      "metadata": {
        "id": "o-BbfcFDM2EK"
      }
    },
    {
      "cell_type": "code",
      "source": [
        "survival_pct_by_agetype=pd.crosstab(df[\"Survived\"],df[\"Age_type\"],normalize='columns')*100\n",
        "survival_pct_by_agetype"
      ],
      "metadata": {
        "id": "wK1hJtC2TUt8"
      },
      "execution_count": null,
      "outputs": []
    },
    {
      "cell_type": "code",
      "source": [
        "plt.imshow(pd.crosstab(df[\"Survived\"],df[\"Age_type\"],normalize='columns')*100,cmap='YlOrRd')\n",
        "plt.colorbar()\n",
        "plt.xticks([0,1,2,3],['Adult',\"child\",\"Infant\",\"Senior\"])\n",
        "plt.yticks([0,1],['Not Survived','Survived'])\n",
        "for i in [0,1,2,3]:\n",
        "  for j in [0,1]:\n",
        "    plt.text(i-0.3,j,f\"{survival_pct_by_agetype.iloc[j,i]:.2f}%\")\n",
        "\n",
        "plt.show()"
      ],
      "metadata": {
        "id": "nX1DsSkCTh35"
      },
      "execution_count": null,
      "outputs": []
    },
    {
      "cell_type": "markdown",
      "source": [
        "# Multivariate Analysis\n",
        "##correlation between variable.\n",
        "#**conclusion**\n",
        "* I created a correlation matrix to understand the relationship between numerical variables. This helped identify how strongly or weakly the variables are correlated.\n",
        "* I also used a heatmap to visualize these relationships for better understanding.\n",
        "\n"
      ],
      "metadata": {
        "id": "fgFyXy9vAiq4"
      }
    },
    {
      "cell_type": "code",
      "source": [
        "df.corr(numeric_only=True)"
      ],
      "metadata": {
        "id": "hqnR1ImGoX8t"
      },
      "execution_count": null,
      "outputs": []
    },
    {
      "cell_type": "code",
      "source": [
        "\n",
        "corr=df.corr(numeric_only=True)\n",
        "plt.imshow(corr)\n",
        "plt.xticks(np.arange(len(corr)),corr, rotation=90)\n",
        "plt.yticks(np.arange(len(corr)),corr)\n",
        "for i in range(len(corr)):\n",
        "  for j in range(len(corr)):\n",
        "    plt.text(i-0.4,j,f\"{corr.iloc[i, j]:.2f}\")\n",
        "plt.colorbar()\n",
        "plt.show()"
      ],
      "metadata": {
        "id": "c0PhAdM7yew_"
      },
      "execution_count": null,
      "outputs": []
    }
  ]
}